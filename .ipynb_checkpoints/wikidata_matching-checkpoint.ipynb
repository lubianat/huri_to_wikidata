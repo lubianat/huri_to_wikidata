{
 "cells": [
  {
   "cell_type": "markdown",
   "metadata": {},
   "source": [
    "Notebook for registering the migration of HuRI protein-protein interactions to Wikidata. \n",
    "\n",
    "\n",
    "\n",
    "Relevant items/values: \n",
    "\n",
    "* The item for the article (\"A reference map of the human binary protein interactome\") : Q91971850\n",
    "\n",
    "* The dataset url: http://www.interactome-atlas.org/data/HuRI.tsv\n",
    "\n",
    "It is in CC-BY 4.0. The source is being cited on Wikidata.  I am not sure of the specifics of how this copyright issue works for the actual statements. \n",
    "I can always revert the batch if that end up being a problem. \n",
    "\n"
   ]
  },
  {
   "cell_type": "code",
   "execution_count": 1,
   "metadata": {},
   "outputs": [],
   "source": [
    "import pandas as pd"
   ]
  },
  {
   "cell_type": "code",
   "execution_count": 11,
   "metadata": {},
   "outputs": [],
   "source": [
    "huri = pd.read_csv(\"http://www.interactome-atlas.org/data/HuRI.tsv\", sep = \"\\t\", header=None)"
   ]
  },
  {
   "cell_type": "code",
   "execution_count": 18,
   "metadata": {},
   "outputs": [
    {
     "data": {
      "text/html": [
       "<div>\n",
       "<style scoped>\n",
       "    .dataframe tbody tr th:only-of-type {\n",
       "        vertical-align: middle;\n",
       "    }\n",
       "\n",
       "    .dataframe tbody tr th {\n",
       "        vertical-align: top;\n",
       "    }\n",
       "\n",
       "    .dataframe thead th {\n",
       "        text-align: right;\n",
       "    }\n",
       "</style>\n",
       "<table border=\"1\" class=\"dataframe\">\n",
       "  <thead>\n",
       "    <tr style=\"text-align: right;\">\n",
       "      <th></th>\n",
       "      <th>gene A</th>\n",
       "      <th>gene B</th>\n",
       "    </tr>\n",
       "  </thead>\n",
       "  <tbody>\n",
       "    <tr>\n",
       "      <th>0</th>\n",
       "      <td>ENSG00000000005</td>\n",
       "      <td>ENSG00000061656</td>\n",
       "    </tr>\n",
       "    <tr>\n",
       "      <th>1</th>\n",
       "      <td>ENSG00000000005</td>\n",
       "      <td>ENSG00000099968</td>\n",
       "    </tr>\n",
       "    <tr>\n",
       "      <th>2</th>\n",
       "      <td>ENSG00000000005</td>\n",
       "      <td>ENSG00000104765</td>\n",
       "    </tr>\n",
       "    <tr>\n",
       "      <th>3</th>\n",
       "      <td>ENSG00000000005</td>\n",
       "      <td>ENSG00000105383</td>\n",
       "    </tr>\n",
       "    <tr>\n",
       "      <th>4</th>\n",
       "      <td>ENSG00000000005</td>\n",
       "      <td>ENSG00000114455</td>\n",
       "    </tr>\n",
       "  </tbody>\n",
       "</table>\n",
       "</div>"
      ],
      "text/plain": [
       "            gene A           gene B\n",
       "0  ENSG00000000005  ENSG00000061656\n",
       "1  ENSG00000000005  ENSG00000099968\n",
       "2  ENSG00000000005  ENSG00000104765\n",
       "3  ENSG00000000005  ENSG00000105383\n",
       "4  ENSG00000000005  ENSG00000114455"
      ]
     },
     "execution_count": 18,
     "metadata": {},
     "output_type": "execute_result"
    }
   ],
   "source": [
    "\n",
    "huri.columns = [\"gene A\", \"gene B\"]\n",
    "huri.head()\n"
   ]
  },
  {
   "cell_type": "markdown",
   "metadata": {},
   "source": [
    "A table of Ensemble IDs to Wikidata entries for genes & the proteins these genes encode was made via SPARQL (https://w.wiki/UGb). "
   ]
  },
  {
   "cell_type": "code",
   "execution_count": 8,
   "metadata": {},
   "outputs": [],
   "source": [
    "ensemble_to_wikidata = pd.read_csv(\"sparql_ensg_gene_protein.csv\")"
   ]
  },
  {
   "cell_type": "markdown",
   "metadata": {},
   "source": [
    "Some genes code more than one protein. That is awesome, biologically, but it makes it hard to make precise statements about protein-protein interactions. \n",
    "\n",
    "That is why we will keep only genes that are reported to encode only one protein. "
   ]
  },
  {
   "cell_type": "code",
   "execution_count": 24,
   "metadata": {},
   "outputs": [
    {
     "name": "stderr",
     "output_type": "stream",
     "text": [
      "/home/lubianat/.local/lib/python3.6/site-packages/ipykernel_launcher.py:8: SettingWithCopyWarning: \n",
      "A value is trying to be set on a copy of a slice from a DataFrame.\n",
      "Try using .loc[row_indexer,col_indexer] = value instead\n",
      "\n",
      "See the caveats in the documentation: https://pandas.pydata.org/pandas-docs/stable/user_guide/indexing.html#returning-a-view-versus-a-copy\n",
      "  \n"
     ]
    }
   ],
   "source": [
    "ensemble_to_wikidata_unique_protein_per_gene = ensemble_to_wikidata.drop_duplicates(subset=\"geneLabel\", keep=False)\n",
    "\n",
    "\n",
    "ensemble_to_unique_protein_qid = ensemble_to_wikidata_unique_protein_per_gene[[\"ensemble_symbol\", \"protein\"]]\n",
    "\n",
    "\n",
    "\n",
    "ensemble_to_unique_protein_qid[\"protein\"] = [url.split(\"/\")[4] for url in ensemble_to_unique_protein_qid[\"protein\"]]"
   ]
  },
  {
   "cell_type": "code",
   "execution_count": 35,
   "metadata": {},
   "outputs": [],
   "source": [
    "huri_with_proteins_A = huri.merge(ensemble_to_unique_protein_qid, left_on=\"gene A\", right_on=\"ensemble_symbol\")\n",
    "\n",
    "huri_with_proteins_A = huri_with_proteins_A[[\"gene A\", \"gene B\", \"protein\"]]\n",
    "\n",
    "huri_with_proteins_A.columns = [\"gene A\", \"gene B\", \"protein A\"]"
   ]
  },
  {
   "cell_type": "code",
   "execution_count": 38,
   "metadata": {},
   "outputs": [],
   "source": [
    "huri_with_proteins_A_and_B = huri_with_proteins_A.merge(ensemble_to_unique_protein_qid, left_on=\"gene B\", right_on=\"ensemble_symbol\")"
   ]
  },
  {
   "cell_type": "code",
   "execution_count": 41,
   "metadata": {},
   "outputs": [],
   "source": [
    "huri_with_proteins_A_and_B = huri_with_proteins_A_and_B[[\"gene A\", \"gene B\", \"protein A\", \"protein\"]]\n",
    "huri_with_proteins_A_and_B.columns = [\"gene A\", \"gene B\", \"protein A\", \"protein B\"]"
   ]
  },
  {
   "cell_type": "code",
   "execution_count": 43,
   "metadata": {},
   "outputs": [
    {
     "data": {
      "text/html": [
       "<div>\n",
       "<style scoped>\n",
       "    .dataframe tbody tr th:only-of-type {\n",
       "        vertical-align: middle;\n",
       "    }\n",
       "\n",
       "    .dataframe tbody tr th {\n",
       "        vertical-align: top;\n",
       "    }\n",
       "\n",
       "    .dataframe thead th {\n",
       "        text-align: right;\n",
       "    }\n",
       "</style>\n",
       "<table border=\"1\" class=\"dataframe\">\n",
       "  <thead>\n",
       "    <tr style=\"text-align: right;\">\n",
       "      <th></th>\n",
       "      <th>gene A</th>\n",
       "      <th>gene B</th>\n",
       "      <th>protein A</th>\n",
       "      <th>protein B</th>\n",
       "    </tr>\n",
       "  </thead>\n",
       "  <tbody>\n",
       "    <tr>\n",
       "      <th>0</th>\n",
       "      <td>ENSG00000000005</td>\n",
       "      <td>ENSG00000061656</td>\n",
       "      <td>Q21134652</td>\n",
       "      <td>Q21122808</td>\n",
       "    </tr>\n",
       "    <tr>\n",
       "      <th>1</th>\n",
       "      <td>ENSG00000000005</td>\n",
       "      <td>ENSG00000099968</td>\n",
       "      <td>Q21134652</td>\n",
       "      <td>Q21100296</td>\n",
       "    </tr>\n",
       "    <tr>\n",
       "      <th>2</th>\n",
       "      <td>ENSG00000088782</td>\n",
       "      <td>ENSG00000099968</td>\n",
       "      <td>Q21112136</td>\n",
       "      <td>Q21100296</td>\n",
       "    </tr>\n",
       "    <tr>\n",
       "      <th>3</th>\n",
       "      <td>ENSG00000089356</td>\n",
       "      <td>ENSG00000099968</td>\n",
       "      <td>Q21132070</td>\n",
       "      <td>Q21100296</td>\n",
       "    </tr>\n",
       "    <tr>\n",
       "      <th>4</th>\n",
       "      <td>ENSG00000099219</td>\n",
       "      <td>ENSG00000099968</td>\n",
       "      <td>Q21130397</td>\n",
       "      <td>Q21100296</td>\n",
       "    </tr>\n",
       "    <tr>\n",
       "      <th>...</th>\n",
       "      <td>...</td>\n",
       "      <td>...</td>\n",
       "      <td>...</td>\n",
       "      <td>...</td>\n",
       "    </tr>\n",
       "    <tr>\n",
       "      <th>23409</th>\n",
       "      <td>ENSG00000233822</td>\n",
       "      <td>ENSG00000272196</td>\n",
       "      <td>Q21110989</td>\n",
       "      <td>Q22677759</td>\n",
       "    </tr>\n",
       "    <tr>\n",
       "      <th>23410</th>\n",
       "      <td>ENSG00000233822</td>\n",
       "      <td>ENSG00000277075</td>\n",
       "      <td>Q21110989</td>\n",
       "      <td>Q21119044</td>\n",
       "    </tr>\n",
       "    <tr>\n",
       "      <th>23411</th>\n",
       "      <td>ENSG00000233822</td>\n",
       "      <td>ENSG00000278463</td>\n",
       "      <td>Q21110989</td>\n",
       "      <td>Q21119044</td>\n",
       "    </tr>\n",
       "    <tr>\n",
       "      <th>23412</th>\n",
       "      <td>ENSG00000255009</td>\n",
       "      <td>ENSG00000284662</td>\n",
       "      <td>Q21135161</td>\n",
       "      <td>Q21133408</td>\n",
       "    </tr>\n",
       "    <tr>\n",
       "      <th>23413</th>\n",
       "      <td>ENSG00000255009</td>\n",
       "      <td>ENSG00000284733</td>\n",
       "      <td>Q21135161</td>\n",
       "      <td>Q21133408</td>\n",
       "    </tr>\n",
       "  </tbody>\n",
       "</table>\n",
       "<p>23414 rows × 4 columns</p>\n",
       "</div>"
      ],
      "text/plain": [
       "                gene A           gene B  protein A  protein B\n",
       "0      ENSG00000000005  ENSG00000061656  Q21134652  Q21122808\n",
       "1      ENSG00000000005  ENSG00000099968  Q21134652  Q21100296\n",
       "2      ENSG00000088782  ENSG00000099968  Q21112136  Q21100296\n",
       "3      ENSG00000089356  ENSG00000099968  Q21132070  Q21100296\n",
       "4      ENSG00000099219  ENSG00000099968  Q21130397  Q21100296\n",
       "...                ...              ...        ...        ...\n",
       "23409  ENSG00000233822  ENSG00000272196  Q21110989  Q22677759\n",
       "23410  ENSG00000233822  ENSG00000277075  Q21110989  Q21119044\n",
       "23411  ENSG00000233822  ENSG00000278463  Q21110989  Q21119044\n",
       "23412  ENSG00000255009  ENSG00000284662  Q21135161  Q21133408\n",
       "23413  ENSG00000255009  ENSG00000284733  Q21135161  Q21133408\n",
       "\n",
       "[23414 rows x 4 columns]"
      ]
     },
     "execution_count": 43,
     "metadata": {},
     "output_type": "execute_result"
    }
   ],
   "source": [
    "huri_with_proteins_A_and_B"
   ]
  },
  {
   "cell_type": "code",
   "execution_count": 62,
   "metadata": {},
   "outputs": [],
   "source": [
    "from datetime import datetime\n",
    "\n",
    "today = datetime.now()\n",
    "today_wikidata_format = today.strftime(\"+%Y-%m-%dT00:00:00Z/11\")\n",
    "\n",
    "reference_url = \"|S854|\"  + '\"' +  \"http://www.interactome-atlas.org/download\"  + '\"' \n",
    "reference_access_date = \"|S813|\" +  today_wikidata_format\n",
    "reference_article = \"|S248|\" + \"Q91971850\" \n",
    "determination_method = \"|P459|\" + \"Q1337844\" \n",
    "\n",
    "\n",
    "with open(f'./huri.qs', 'w') as file:\n",
    "    for index, row in huri_with_proteins_A_and_B.iterrows():\n",
    "    \n",
    "        qid_A = row[\"protein A\"]\n",
    "        qid_B = row[\"protein B\"]\n",
    "\n",
    "\n",
    "        statement = qid_A + \"|P129|\" + qid_B + determination_method + reference_url + reference_access_date + reference_article\n",
    "        print(statement, file=file)\n",
    "        statement_reverse = qid_B + \"|P129|\" + qid_A + determination_method + reference_url + reference_access_date + reference_article\n",
    "        print(statement_reverse, file=file)\n",
    "\n",
    "\n",
    "        \n",
    "    "
   ]
  },
  {
   "cell_type": "code",
   "execution_count": null,
   "metadata": {},
   "outputs": [],
   "source": []
  }
 ],
 "metadata": {
  "kernelspec": {
   "display_name": "Python 3",
   "language": "python",
   "name": "python3"
  },
  "language_info": {
   "codemirror_mode": {
    "name": "ipython",
    "version": 3
   },
   "file_extension": ".py",
   "mimetype": "text/x-python",
   "name": "python",
   "nbconvert_exporter": "python",
   "pygments_lexer": "ipython3",
   "version": "3.6.9"
  }
 },
 "nbformat": 4,
 "nbformat_minor": 4
}
